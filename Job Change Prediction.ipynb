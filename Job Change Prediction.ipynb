{
 "cells": [
  {
   "cell_type": "markdown",
   "metadata": {},
   "source": [
    "## 1. Imports"
   ]
  },
  {
   "cell_type": "code",
   "execution_count": 1,
   "metadata": {},
   "outputs": [
    {
     "name": "stderr",
     "output_type": "stream",
     "text": [
      "\n",
      "Bad key text.latex.unicode in file C:\\Users\\juan.ron\\Anaconda3\\envs\\dhdsblend\\lib\\site-packages\\matplotlib\\mpl-data\\stylelib\\_classic_test.mplstyle, line 112 ('text.latex.unicode : False # use \"ucs\" and \"inputenc\" LaTeX packages for handling')\n",
      "You probably need to get an updated matplotlibrc file from\n",
      "https://github.com/matplotlib/matplotlib/blob/v3.3.1/matplotlibrc.template\n",
      "or from the matplotlib source distribution\n",
      "\n",
      "Bad key savefig.frameon in file C:\\Users\\juan.ron\\Anaconda3\\envs\\dhdsblend\\lib\\site-packages\\matplotlib\\mpl-data\\stylelib\\_classic_test.mplstyle, line 423 ('savefig.frameon : True')\n",
      "You probably need to get an updated matplotlibrc file from\n",
      "https://github.com/matplotlib/matplotlib/blob/v3.3.1/matplotlibrc.template\n",
      "or from the matplotlib source distribution\n",
      "\n",
      "Bad key pgf.debug in file C:\\Users\\juan.ron\\Anaconda3\\envs\\dhdsblend\\lib\\site-packages\\matplotlib\\mpl-data\\stylelib\\_classic_test.mplstyle, line 444 ('pgf.debug           : False')\n",
      "You probably need to get an updated matplotlibrc file from\n",
      "https://github.com/matplotlib/matplotlib/blob/v3.3.1/matplotlibrc.template\n",
      "or from the matplotlib source distribution\n",
      "\n",
      "Bad key verbose.level in file C:\\Users\\juan.ron\\Anaconda3\\envs\\dhdsblend\\lib\\site-packages\\matplotlib\\mpl-data\\stylelib\\_classic_test.mplstyle, line 475 ('verbose.level  : silent      # one of silent, helpful, debug, debug-annoying')\n",
      "You probably need to get an updated matplotlibrc file from\n",
      "https://github.com/matplotlib/matplotlib/blob/v3.3.1/matplotlibrc.template\n",
      "or from the matplotlib source distribution\n",
      "\n",
      "Bad key verbose.fileo in file C:\\Users\\juan.ron\\Anaconda3\\envs\\dhdsblend\\lib\\site-packages\\matplotlib\\mpl-data\\stylelib\\_classic_test.mplstyle, line 476 ('verbose.fileo  : sys.stdout  # a log filename, sys.stdout or sys.stderr')\n",
      "You probably need to get an updated matplotlibrc file from\n",
      "https://github.com/matplotlib/matplotlib/blob/v3.3.1/matplotlibrc.template\n",
      "or from the matplotlib source distribution\n",
      "In C:\\Users\\juan.ron\\Anaconda3\\envs\\dhdsblend\\lib\\site-packages\\matplotlib\\mpl-data\\stylelib\\_classic_test.mplstyle: \n",
      "The text.latex.preview rcparam was deprecated in Matplotlib 3.3 and will be removed two minor releases later.\n",
      "In C:\\Users\\juan.ron\\Anaconda3\\envs\\dhdsblend\\lib\\site-packages\\matplotlib\\mpl-data\\stylelib\\_classic_test.mplstyle: \n",
      "The mathtext.fallback_to_cm rcparam was deprecated in Matplotlib 3.3 and will be removed two minor releases later.\n",
      "In C:\\Users\\juan.ron\\Anaconda3\\envs\\dhdsblend\\lib\\site-packages\\matplotlib\\mpl-data\\stylelib\\_classic_test.mplstyle: Support for setting the 'mathtext.fallback_to_cm' rcParam is deprecated since 3.3 and will be removed two minor releases later; use 'mathtext.fallback : 'cm' instead.\n",
      "In C:\\Users\\juan.ron\\Anaconda3\\envs\\dhdsblend\\lib\\site-packages\\matplotlib\\mpl-data\\stylelib\\_classic_test.mplstyle: \n",
      "The validate_bool_maybe_none function was deprecated in Matplotlib 3.3 and will be removed two minor releases later.\n",
      "In C:\\Users\\juan.ron\\Anaconda3\\envs\\dhdsblend\\lib\\site-packages\\matplotlib\\mpl-data\\stylelib\\_classic_test.mplstyle: \n",
      "The savefig.jpeg_quality rcparam was deprecated in Matplotlib 3.3 and will be removed two minor releases later.\n",
      "In C:\\Users\\juan.ron\\Anaconda3\\envs\\dhdsblend\\lib\\site-packages\\matplotlib\\mpl-data\\stylelib\\_classic_test.mplstyle: \n",
      "The keymap.all_axes rcparam was deprecated in Matplotlib 3.3 and will be removed two minor releases later.\n",
      "In C:\\Users\\juan.ron\\Anaconda3\\envs\\dhdsblend\\lib\\site-packages\\matplotlib\\mpl-data\\stylelib\\_classic_test.mplstyle: \n",
      "The animation.avconv_path rcparam was deprecated in Matplotlib 3.3 and will be removed two minor releases later.\n",
      "In C:\\Users\\juan.ron\\Anaconda3\\envs\\dhdsblend\\lib\\site-packages\\matplotlib\\mpl-data\\stylelib\\_classic_test.mplstyle: \n",
      "The animation.avconv_args rcparam was deprecated in Matplotlib 3.3 and will be removed two minor releases later.\n"
     ]
    }
   ],
   "source": [
    "### Base libraries\n",
    "import pandas as pd\n",
    "import numpy as np\n",
    "import matplotlib.pyplot as plt\n",
    "import seaborn as sns\n",
    "\n",
    "### Models\n",
    "from sklearn.linear_model import LogisticRegression\n",
    "from lightgbm import LGBMClassifier\n",
    "\n",
    "### Preprocessing\n",
    "from sklearn.pipeline import make_pipeline, make_union, Pipeline\n",
    "from sklearn.compose import ColumnTransformer\n",
    "from sklearn.base import BaseEstimator, TransformerMixin\n",
    "from sklearn.preprocessing import StandardScaler, OneHotEncoder\n",
    "from sklearn.experimental import enable_iterative_imputer\n",
    "from sklearn.impute import IterativeImputer, SimpleImputer\n",
    "\n",
    "### Model selection\n",
    "from sklearn.model_selection import GridSearchCV, RandomizedSearchCV, StratifiedKFold, train_test_split\n",
    "\n",
    "### Metrics and model evaluation\n",
    "from sklearn.metrics import confusion_matrix, classification_report, roc_auc_score, plot_roc_curve, plot_precision_recall_curve\n",
    "from lightgbm import plot_importance\n",
    "\n",
    "### Oversampling, undersampling and SMOTE\n",
    "from imblearn.over_sampling import RandomOverSampler, SMOTE\n",
    "from imblearn.under_sampling import RandomUnderSampler\n",
    "from imblearn.pipeline import Pipeline as imbPipeline"
   ]
  },
  {
   "cell_type": "code",
   "execution_count": 2,
   "metadata": {},
   "outputs": [
    {
     "data": {
      "text/html": [
       "<div>\n",
       "<style scoped>\n",
       "    .dataframe tbody tr th:only-of-type {\n",
       "        vertical-align: middle;\n",
       "    }\n",
       "\n",
       "    .dataframe tbody tr th {\n",
       "        vertical-align: top;\n",
       "    }\n",
       "\n",
       "    .dataframe thead th {\n",
       "        text-align: right;\n",
       "    }\n",
       "</style>\n",
       "<table border=\"1\" class=\"dataframe\">\n",
       "  <thead>\n",
       "    <tr style=\"text-align: right;\">\n",
       "      <th></th>\n",
       "      <th>enrollee_id</th>\n",
       "      <th>city</th>\n",
       "      <th>city_development_index</th>\n",
       "      <th>gender</th>\n",
       "      <th>relevent_experience</th>\n",
       "      <th>enrolled_university</th>\n",
       "      <th>education_level</th>\n",
       "      <th>major_discipline</th>\n",
       "      <th>experience</th>\n",
       "      <th>company_size</th>\n",
       "      <th>company_type</th>\n",
       "      <th>last_new_job</th>\n",
       "      <th>training_hours</th>\n",
       "      <th>target</th>\n",
       "    </tr>\n",
       "  </thead>\n",
       "  <tbody>\n",
       "    <tr>\n",
       "      <th>0</th>\n",
       "      <td>8949</td>\n",
       "      <td>city_103</td>\n",
       "      <td>0.920</td>\n",
       "      <td>Male</td>\n",
       "      <td>Has relevent experience</td>\n",
       "      <td>no_enrollment</td>\n",
       "      <td>Graduate</td>\n",
       "      <td>STEM</td>\n",
       "      <td>&gt;20</td>\n",
       "      <td>NaN</td>\n",
       "      <td>NaN</td>\n",
       "      <td>1</td>\n",
       "      <td>36</td>\n",
       "      <td>1.0</td>\n",
       "    </tr>\n",
       "    <tr>\n",
       "      <th>1</th>\n",
       "      <td>29725</td>\n",
       "      <td>city_40</td>\n",
       "      <td>0.776</td>\n",
       "      <td>Male</td>\n",
       "      <td>No relevent experience</td>\n",
       "      <td>no_enrollment</td>\n",
       "      <td>Graduate</td>\n",
       "      <td>STEM</td>\n",
       "      <td>15</td>\n",
       "      <td>50-99</td>\n",
       "      <td>Pvt Ltd</td>\n",
       "      <td>&gt;4</td>\n",
       "      <td>47</td>\n",
       "      <td>0.0</td>\n",
       "    </tr>\n",
       "    <tr>\n",
       "      <th>2</th>\n",
       "      <td>11561</td>\n",
       "      <td>city_21</td>\n",
       "      <td>0.624</td>\n",
       "      <td>NaN</td>\n",
       "      <td>No relevent experience</td>\n",
       "      <td>Full time course</td>\n",
       "      <td>Graduate</td>\n",
       "      <td>STEM</td>\n",
       "      <td>5</td>\n",
       "      <td>NaN</td>\n",
       "      <td>NaN</td>\n",
       "      <td>never</td>\n",
       "      <td>83</td>\n",
       "      <td>0.0</td>\n",
       "    </tr>\n",
       "    <tr>\n",
       "      <th>3</th>\n",
       "      <td>33241</td>\n",
       "      <td>city_115</td>\n",
       "      <td>0.789</td>\n",
       "      <td>NaN</td>\n",
       "      <td>No relevent experience</td>\n",
       "      <td>NaN</td>\n",
       "      <td>Graduate</td>\n",
       "      <td>Business Degree</td>\n",
       "      <td>&lt;1</td>\n",
       "      <td>NaN</td>\n",
       "      <td>Pvt Ltd</td>\n",
       "      <td>never</td>\n",
       "      <td>52</td>\n",
       "      <td>1.0</td>\n",
       "    </tr>\n",
       "    <tr>\n",
       "      <th>4</th>\n",
       "      <td>666</td>\n",
       "      <td>city_162</td>\n",
       "      <td>0.767</td>\n",
       "      <td>Male</td>\n",
       "      <td>Has relevent experience</td>\n",
       "      <td>no_enrollment</td>\n",
       "      <td>Masters</td>\n",
       "      <td>STEM</td>\n",
       "      <td>&gt;20</td>\n",
       "      <td>50-99</td>\n",
       "      <td>Funded Startup</td>\n",
       "      <td>4</td>\n",
       "      <td>8</td>\n",
       "      <td>0.0</td>\n",
       "    </tr>\n",
       "  </tbody>\n",
       "</table>\n",
       "</div>"
      ],
      "text/plain": [
       "   enrollee_id      city  city_development_index gender  \\\n",
       "0         8949  city_103                   0.920   Male   \n",
       "1        29725   city_40                   0.776   Male   \n",
       "2        11561   city_21                   0.624    NaN   \n",
       "3        33241  city_115                   0.789    NaN   \n",
       "4          666  city_162                   0.767   Male   \n",
       "\n",
       "       relevent_experience enrolled_university education_level  \\\n",
       "0  Has relevent experience       no_enrollment        Graduate   \n",
       "1   No relevent experience       no_enrollment        Graduate   \n",
       "2   No relevent experience    Full time course        Graduate   \n",
       "3   No relevent experience                 NaN        Graduate   \n",
       "4  Has relevent experience       no_enrollment         Masters   \n",
       "\n",
       "  major_discipline experience company_size    company_type last_new_job  \\\n",
       "0             STEM        >20          NaN             NaN            1   \n",
       "1             STEM         15        50-99         Pvt Ltd           >4   \n",
       "2             STEM          5          NaN             NaN        never   \n",
       "3  Business Degree         <1          NaN         Pvt Ltd        never   \n",
       "4             STEM        >20        50-99  Funded Startup            4   \n",
       "\n",
       "   training_hours  target  \n",
       "0              36     1.0  \n",
       "1              47     0.0  \n",
       "2              83     0.0  \n",
       "3              52     1.0  \n",
       "4               8     0.0  "
      ]
     },
     "execution_count": 2,
     "metadata": {},
     "output_type": "execute_result"
    }
   ],
   "source": [
    "train_data_raw = pd.read_csv('aug_train.csv')\n",
    "train_data_raw.head()"
   ]
  },
  {
   "cell_type": "code",
   "execution_count": 3,
   "metadata": {},
   "outputs": [
    {
     "name": "stdout",
     "output_type": "stream",
     "text": [
      "<class 'pandas.core.frame.DataFrame'>\n",
      "RangeIndex: 19158 entries, 0 to 19157\n",
      "Data columns (total 14 columns):\n",
      " #   Column                  Non-Null Count  Dtype  \n",
      "---  ------                  --------------  -----  \n",
      " 0   enrollee_id             19158 non-null  int64  \n",
      " 1   city                    19158 non-null  object \n",
      " 2   city_development_index  19158 non-null  float64\n",
      " 3   gender                  14650 non-null  object \n",
      " 4   relevent_experience     19158 non-null  object \n",
      " 5   enrolled_university     18772 non-null  object \n",
      " 6   education_level         18698 non-null  object \n",
      " 7   major_discipline        16345 non-null  object \n",
      " 8   experience              19093 non-null  object \n",
      " 9   company_size            13220 non-null  object \n",
      " 10  company_type            13018 non-null  object \n",
      " 11  last_new_job            18735 non-null  object \n",
      " 12  training_hours          19158 non-null  int64  \n",
      " 13  target                  19158 non-null  float64\n",
      "dtypes: float64(2), int64(2), object(10)\n",
      "memory usage: 2.0+ MB\n"
     ]
    }
   ],
   "source": [
    "train_data_raw.info()"
   ]
  },
  {
   "cell_type": "code",
   "execution_count": 4,
   "metadata": {},
   "outputs": [
    {
     "name": "stdout",
     "output_type": "stream",
     "text": [
      "Porcentaje de nulos\n",
      "enrollee_id                0.00\n",
      "city                       0.00\n",
      "city_development_index     0.00\n",
      "gender                    23.53\n",
      "relevent_experience        0.00\n",
      "enrolled_university        2.01\n",
      "education_level            2.40\n",
      "major_discipline          14.68\n",
      "experience                 0.34\n",
      "company_size              30.99\n",
      "company_type              32.05\n",
      "last_new_job               2.21\n",
      "training_hours             0.00\n",
      "target                     0.00\n",
      "dtype: float64\n"
     ]
    }
   ],
   "source": [
    "print('Porcentaje de nulos')\n",
    "print((train_data_raw.isnull().sum()/train_data_raw.shape[0]*100).round(2))"
   ]
  },
  {
   "cell_type": "markdown",
   "metadata": {},
   "source": [
    "_____"
   ]
  },
  {
   "cell_type": "markdown",
   "metadata": {},
   "source": [
    "## 2. Pipeline"
   ]
  },
  {
   "cell_type": "markdown",
   "metadata": {},
   "source": [
    "### 2.1 Preprocessing Steps"
   ]
  },
  {
   "cell_type": "code",
   "execution_count": 5,
   "metadata": {},
   "outputs": [],
   "source": [
    "### Numerical features\n",
    "\n",
    "numerical_cols = ['city_development_index', 'training_hours']\n",
    "\n",
    "numerical_transformer_1 = Pipeline(steps=[\n",
    "    ('imputer', SimpleImputer(strategy = 'median')),\n",
    "    ('scaler', StandardScaler())])\n",
    "\n",
    "numerical_transformer_2 = Pipeline(steps=[\n",
    "    ('imputer', SimpleImputer(strategy = 'constant', fill_value = 0)),\n",
    "    ('scaler', StandardScaler())])"
   ]
  },
  {
   "cell_type": "code",
   "execution_count": 6,
   "metadata": {},
   "outputs": [],
   "source": [
    "### Categorical features\n",
    "\n",
    "categorical_cols = ['city', 'gender', 'relevent_experience', 'enrolled_university', 'education_level', \n",
    "                    'major_discipline', 'experience', 'company_size', 'company_type', 'last_new_job']\n",
    "\n",
    "categorical_transformer_1 = Pipeline(steps = [\n",
    "    ('imputer', SimpleImputer(strategy = 'most_frequent')),\n",
    "    ('encoder', OneHotEncoder(handle_unknown='ignore'))])\n",
    "\n",
    "categorical_transformer_2 = Pipeline(steps = [\n",
    "    ('imputer', SimpleImputer(strategy = 'constant', fill_value = 'Empty')),\n",
    "    ('encoder', OneHotEncoder(handle_unknown='ignore'))])"
   ]
  },
  {
   "cell_type": "code",
   "execution_count": 7,
   "metadata": {},
   "outputs": [],
   "source": [
    "### Preprocessing Pipelines\n",
    "\n",
    "preprocessing_step_1 = ColumnTransformer(\n",
    "    transformers = [\n",
    "        ('num', numerical_transformer_1, numerical_cols),\n",
    "        ('cat', categorical_transformer_1, categorical_cols)])\n",
    "\n",
    "preprocessing_step_2 = ColumnTransformer(\n",
    "    transformers = [\n",
    "        ('num', numerical_transformer_2, numerical_cols),\n",
    "        ('cat', categorical_transformer_2, categorical_cols)])"
   ]
  },
  {
   "cell_type": "markdown",
   "metadata": {},
   "source": [
    "### 2.2 Sampling Steps"
   ]
  },
  {
   "cell_type": "code",
   "execution_count": 8,
   "metadata": {},
   "outputs": [],
   "source": [
    "### Oversampling\n",
    "\n",
    "oversampling_step = RandomOverSampler()"
   ]
  },
  {
   "cell_type": "code",
   "execution_count": 9,
   "metadata": {},
   "outputs": [],
   "source": [
    "### Undersampling\n",
    "\n",
    "undersampling_step = RandomUnderSampler()"
   ]
  },
  {
   "cell_type": "code",
   "execution_count": 10,
   "metadata": {},
   "outputs": [],
   "source": [
    "### SMOTE\n",
    "\n",
    "smote_step = SMOTE()"
   ]
  },
  {
   "cell_type": "markdown",
   "metadata": {},
   "source": [
    "### 2.3 Model Steps"
   ]
  },
  {
   "cell_type": "code",
   "execution_count": 11,
   "metadata": {},
   "outputs": [],
   "source": [
    "### RandomForest Regressor\n",
    "\n",
    "lgbm_step = LGBMClassifier(verbose = 1)"
   ]
  },
  {
   "cell_type": "markdown",
   "metadata": {},
   "source": [
    "### 2.4 Pipeline Union"
   ]
  },
  {
   "cell_type": "code",
   "execution_count": 12,
   "metadata": {},
   "outputs": [],
   "source": [
    "full_pipeline = imbPipeline(steps = [\n",
    "    ('preprocessor', preprocessing_step_1),\n",
    "    ('sampler', oversampling_step),\n",
    "    ('model', lgbm_step)\n",
    "])"
   ]
  },
  {
   "cell_type": "markdown",
   "metadata": {},
   "source": [
    "_____"
   ]
  },
  {
   "cell_type": "markdown",
   "metadata": {},
   "source": [
    "## 3. Train-test Split"
   ]
  },
  {
   "cell_type": "code",
   "execution_count": 13,
   "metadata": {},
   "outputs": [
    {
     "name": "stdout",
     "output_type": "stream",
     "text": [
      "(14368, 12)\n",
      "(14368,)\n",
      "(4790, 12)\n",
      "(4790,)\n"
     ]
    }
   ],
   "source": [
    "X = train_data_raw.drop(['target', 'enrollee_id'], axis = 1)\n",
    "y = train_data_raw['target']\n",
    "\n",
    "X_train, X_test, y_train, y_test = train_test_split(X, y, \n",
    "                                                    train_size = .75, random_state = 1942, shuffle = True, stratify = y)\n",
    "\n",
    "print(X_train.shape)\n",
    "print(y_train.shape)\n",
    "print(X_test.shape)\n",
    "print(y_test.shape)"
   ]
  },
  {
   "cell_type": "markdown",
   "metadata": {},
   "source": [
    "_____"
   ]
  },
  {
   "cell_type": "markdown",
   "metadata": {},
   "source": [
    "## 4. Modelling"
   ]
  },
  {
   "cell_type": "markdown",
   "metadata": {},
   "source": [
    "### 4.1 GridSearch Parameters"
   ]
  },
  {
   "cell_type": "code",
   "execution_count": 14,
   "metadata": {},
   "outputs": [],
   "source": [
    "folds = StratifiedKFold(n_splits = 5, shuffle = True, random_state = 1942)"
   ]
  },
  {
   "cell_type": "code",
   "execution_count": 15,
   "metadata": {},
   "outputs": [],
   "source": [
    "param_grid = [{'preprocessor':[preprocessing_step_1, preprocessing_step_2],\n",
    "               'sampler': [None],\n",
    "               'model__boosting_type' : ['gbdt', 'dart', 'goss'],\n",
    "               'model__reg_lambda' : [0, 10, 100, 1000],\n",
    "               'model__is_unbalance':[False, True]},\n",
    "              \n",
    "              {'preprocessor':[preprocessing_step_1, preprocessing_step_2],\n",
    "               'sampler': [oversampling_step],\n",
    "               'sampler__sampling_strategy' : [1, .9, .8, .7, .6, .5],\n",
    "               'model__boosting_type' : ['gbdt', 'dart', 'goss'],\n",
    "               'model__reg_lambda' : [0, 10, 100, 1000],\n",
    "               'model__is_unbalance':[False, True]},\n",
    "              \n",
    "              {'preprocessor':[preprocessing_step_1, preprocessing_step_2],\n",
    "               'sampler': [undersampling_step],\n",
    "               'sampler__sampling_strategy' : [1, .9, .8, .7, .6, .5],\n",
    "               'model__boosting_type' : ['gbdt', 'dart', 'goss'],\n",
    "               'model__reg_lambda' : [0, 10, 100, 1000],\n",
    "               'model__is_unbalance':[False, True]},\n",
    "              \n",
    "              {'preprocessor':[preprocessing_step_1, preprocessing_step_2],\n",
    "               'sampler': [smote_step],\n",
    "               'sampler__sampling_strategy' : [1, .9, .8, .7, .6, .5],\n",
    "               'model__boosting_type' : ['gbdt', 'dart', 'goss'],\n",
    "               'model__reg_lambda' : [0, 10, 100, 1000],\n",
    "               'model__is_unbalance':[False, True]}]"
   ]
  },
  {
   "cell_type": "code",
   "execution_count": 16,
   "metadata": {},
   "outputs": [],
   "source": [
    "scoring = {'ROC' : 'roc_auc', 'Recall' : 'recall'}"
   ]
  },
  {
   "cell_type": "code",
   "execution_count": 17,
   "metadata": {},
   "outputs": [],
   "source": [
    "grid_search = GridSearchCV(full_pipeline, param_grid, cv = folds, scoring = scoring, refit = 'ROC')"
   ]
  },
  {
   "cell_type": "markdown",
   "metadata": {},
   "source": [
    "### 4.2 Model Selection"
   ]
  },
  {
   "cell_type": "code",
   "execution_count": 18,
   "metadata": {},
   "outputs": [
    {
     "data": {
      "text/plain": [
       "GridSearchCV(cv=StratifiedKFold(n_splits=5, random_state=1942, shuffle=True),\n",
       "             estimator=Pipeline(steps=[('preprocessor',\n",
       "                                        ColumnTransformer(transformers=[('num',\n",
       "                                                                         Pipeline(steps=[('imputer',\n",
       "                                                                                          SimpleImputer(strategy='median')),\n",
       "                                                                                         ('scaler',\n",
       "                                                                                          StandardScaler())]),\n",
       "                                                                         ['city_development_index',\n",
       "                                                                          'training_hours']),\n",
       "                                                                        ('cat',\n",
       "                                                                         Pipeline(steps=[('imputer',\n",
       "                                                                                          SimpleImputer(strategy='...\n",
       "                                                                                                           strategy='constant')),\n",
       "                                                                                            ('encoder',\n",
       "                                                                                             OneHotEncoder(handle_unknown='ignore'))]),\n",
       "                                                                            ['city',\n",
       "                                                                             'gender',\n",
       "                                                                             'relevent_experience',\n",
       "                                                                             'enrolled_university',\n",
       "                                                                             'education_level',\n",
       "                                                                             'major_discipline',\n",
       "                                                                             'experience',\n",
       "                                                                             'company_size',\n",
       "                                                                             'company_type',\n",
       "                                                                             'last_new_job'])])],\n",
       "                          'sampler': [SMOTE()],\n",
       "                          'sampler__sampling_strategy': [1, 0.9, 0.8, 0.7, 0.6,\n",
       "                                                         0.5]}],\n",
       "             refit='ROC', scoring={'ROC': 'roc_auc', 'Recall': 'recall'})"
      ]
     },
     "execution_count": 18,
     "metadata": {},
     "output_type": "execute_result"
    }
   ],
   "source": [
    "grid_search.fit(pd.DataFrame(X_train, columns=X.columns), y_train)"
   ]
  },
  {
   "cell_type": "code",
   "execution_count": 19,
   "metadata": {},
   "outputs": [
    {
     "data": {
      "text/html": [
       "<div>\n",
       "<style scoped>\n",
       "    .dataframe tbody tr th:only-of-type {\n",
       "        vertical-align: middle;\n",
       "    }\n",
       "\n",
       "    .dataframe tbody tr th {\n",
       "        vertical-align: top;\n",
       "    }\n",
       "\n",
       "    .dataframe thead th {\n",
       "        text-align: right;\n",
       "    }\n",
       "</style>\n",
       "<table border=\"1\" class=\"dataframe\">\n",
       "  <thead>\n",
       "    <tr style=\"text-align: right;\">\n",
       "      <th></th>\n",
       "      <th>mean_fit_time</th>\n",
       "      <th>std_fit_time</th>\n",
       "      <th>mean_score_time</th>\n",
       "      <th>std_score_time</th>\n",
       "      <th>param_model__boosting_type</th>\n",
       "      <th>param_model__is_unbalance</th>\n",
       "      <th>param_model__reg_lambda</th>\n",
       "      <th>param_preprocessor</th>\n",
       "      <th>param_sampler</th>\n",
       "      <th>param_sampler__sampling_strategy</th>\n",
       "      <th>...</th>\n",
       "      <th>std_test_ROC</th>\n",
       "      <th>rank_test_ROC</th>\n",
       "      <th>split0_test_Recall</th>\n",
       "      <th>split1_test_Recall</th>\n",
       "      <th>split2_test_Recall</th>\n",
       "      <th>split3_test_Recall</th>\n",
       "      <th>split4_test_Recall</th>\n",
       "      <th>mean_test_Recall</th>\n",
       "      <th>std_test_Recall</th>\n",
       "      <th>rank_test_Recall</th>\n",
       "    </tr>\n",
       "  </thead>\n",
       "  <tbody>\n",
       "    <tr>\n",
       "      <th>0</th>\n",
       "      <td>1.846506</td>\n",
       "      <td>1.291467</td>\n",
       "      <td>0.093605</td>\n",
       "      <td>0.006917</td>\n",
       "      <td>gbdt</td>\n",
       "      <td>False</td>\n",
       "      <td>0</td>\n",
       "      <td>ColumnTransformer(transformers=[('num',\\n     ...</td>\n",
       "      <td>None</td>\n",
       "      <td>NaN</td>\n",
       "      <td>...</td>\n",
       "      <td>0.005690</td>\n",
       "      <td>739</td>\n",
       "      <td>0.435146</td>\n",
       "      <td>0.447699</td>\n",
       "      <td>0.442120</td>\n",
       "      <td>0.446927</td>\n",
       "      <td>0.439944</td>\n",
       "      <td>0.442367</td>\n",
       "      <td>0.004632</td>\n",
       "      <td>899</td>\n",
       "    </tr>\n",
       "    <tr>\n",
       "      <th>1</th>\n",
       "      <td>0.675439</td>\n",
       "      <td>0.270934</td>\n",
       "      <td>0.090005</td>\n",
       "      <td>0.008787</td>\n",
       "      <td>gbdt</td>\n",
       "      <td>False</td>\n",
       "      <td>0</td>\n",
       "      <td>ColumnTransformer(transformers=[('num',\\n     ...</td>\n",
       "      <td>None</td>\n",
       "      <td>NaN</td>\n",
       "      <td>...</td>\n",
       "      <td>0.007038</td>\n",
       "      <td>135</td>\n",
       "      <td>0.560669</td>\n",
       "      <td>0.556485</td>\n",
       "      <td>0.581590</td>\n",
       "      <td>0.568436</td>\n",
       "      <td>0.576816</td>\n",
       "      <td>0.568799</td>\n",
       "      <td>0.009442</td>\n",
       "      <td>824</td>\n",
       "    </tr>\n",
       "    <tr>\n",
       "      <th>2</th>\n",
       "      <td>1.767501</td>\n",
       "      <td>0.707897</td>\n",
       "      <td>0.161609</td>\n",
       "      <td>0.079547</td>\n",
       "      <td>gbdt</td>\n",
       "      <td>False</td>\n",
       "      <td>10</td>\n",
       "      <td>ColumnTransformer(transformers=[('num',\\n     ...</td>\n",
       "      <td>None</td>\n",
       "      <td>NaN</td>\n",
       "      <td>...</td>\n",
       "      <td>0.007253</td>\n",
       "      <td>528</td>\n",
       "      <td>0.432357</td>\n",
       "      <td>0.456067</td>\n",
       "      <td>0.428173</td>\n",
       "      <td>0.421788</td>\n",
       "      <td>0.449721</td>\n",
       "      <td>0.437621</td>\n",
       "      <td>0.013072</td>\n",
       "      <td>902</td>\n",
       "    </tr>\n",
       "    <tr>\n",
       "      <th>3</th>\n",
       "      <td>0.772844</td>\n",
       "      <td>0.153521</td>\n",
       "      <td>0.165809</td>\n",
       "      <td>0.095455</td>\n",
       "      <td>gbdt</td>\n",
       "      <td>False</td>\n",
       "      <td>10</td>\n",
       "      <td>ColumnTransformer(transformers=[('num',\\n     ...</td>\n",
       "      <td>None</td>\n",
       "      <td>NaN</td>\n",
       "      <td>...</td>\n",
       "      <td>0.007546</td>\n",
       "      <td>22</td>\n",
       "      <td>0.566248</td>\n",
       "      <td>0.556485</td>\n",
       "      <td>0.566248</td>\n",
       "      <td>0.560056</td>\n",
       "      <td>0.569832</td>\n",
       "      <td>0.563774</td>\n",
       "      <td>0.004814</td>\n",
       "      <td>836</td>\n",
       "    </tr>\n",
       "    <tr>\n",
       "      <th>4</th>\n",
       "      <td>1.710498</td>\n",
       "      <td>0.705955</td>\n",
       "      <td>0.155809</td>\n",
       "      <td>0.045255</td>\n",
       "      <td>gbdt</td>\n",
       "      <td>False</td>\n",
       "      <td>100</td>\n",
       "      <td>ColumnTransformer(transformers=[('num',\\n     ...</td>\n",
       "      <td>None</td>\n",
       "      <td>NaN</td>\n",
       "      <td>...</td>\n",
       "      <td>0.007420</td>\n",
       "      <td>462</td>\n",
       "      <td>0.432357</td>\n",
       "      <td>0.453278</td>\n",
       "      <td>0.412831</td>\n",
       "      <td>0.423184</td>\n",
       "      <td>0.439944</td>\n",
       "      <td>0.432319</td>\n",
       "      <td>0.013861</td>\n",
       "      <td>903</td>\n",
       "    </tr>\n",
       "    <tr>\n",
       "      <th>...</th>\n",
       "      <td>...</td>\n",
       "      <td>...</td>\n",
       "      <td>...</td>\n",
       "      <td>...</td>\n",
       "      <td>...</td>\n",
       "      <td>...</td>\n",
       "      <td>...</td>\n",
       "      <td>...</td>\n",
       "      <td>...</td>\n",
       "      <td>...</td>\n",
       "      <td>...</td>\n",
       "      <td>...</td>\n",
       "      <td>...</td>\n",
       "      <td>...</td>\n",
       "      <td>...</td>\n",
       "      <td>...</td>\n",
       "      <td>...</td>\n",
       "      <td>...</td>\n",
       "      <td>...</td>\n",
       "      <td>...</td>\n",
       "      <td>...</td>\n",
       "    </tr>\n",
       "    <tr>\n",
       "      <th>907</th>\n",
       "      <td>1.643694</td>\n",
       "      <td>0.369775</td>\n",
       "      <td>0.118407</td>\n",
       "      <td>0.042191</td>\n",
       "      <td>goss</td>\n",
       "      <td>True</td>\n",
       "      <td>1000</td>\n",
       "      <td>ColumnTransformer(transformers=[('num',\\n     ...</td>\n",
       "      <td>SMOTE()</td>\n",
       "      <td>0.9</td>\n",
       "      <td>...</td>\n",
       "      <td>0.008321</td>\n",
       "      <td>316</td>\n",
       "      <td>0.700139</td>\n",
       "      <td>0.701534</td>\n",
       "      <td>0.751743</td>\n",
       "      <td>0.717877</td>\n",
       "      <td>0.708101</td>\n",
       "      <td>0.715879</td>\n",
       "      <td>0.018996</td>\n",
       "      <td>420</td>\n",
       "    </tr>\n",
       "    <tr>\n",
       "      <th>908</th>\n",
       "      <td>1.218270</td>\n",
       "      <td>0.071420</td>\n",
       "      <td>0.108406</td>\n",
       "      <td>0.047338</td>\n",
       "      <td>goss</td>\n",
       "      <td>True</td>\n",
       "      <td>1000</td>\n",
       "      <td>ColumnTransformer(transformers=[('num',\\n     ...</td>\n",
       "      <td>SMOTE()</td>\n",
       "      <td>0.8</td>\n",
       "      <td>...</td>\n",
       "      <td>0.007866</td>\n",
       "      <td>342</td>\n",
       "      <td>0.698745</td>\n",
       "      <td>0.705718</td>\n",
       "      <td>0.751743</td>\n",
       "      <td>0.726257</td>\n",
       "      <td>0.712291</td>\n",
       "      <td>0.718951</td>\n",
       "      <td>0.018743</td>\n",
       "      <td>400</td>\n",
       "    </tr>\n",
       "    <tr>\n",
       "      <th>909</th>\n",
       "      <td>1.086862</td>\n",
       "      <td>0.079212</td>\n",
       "      <td>0.083805</td>\n",
       "      <td>0.000748</td>\n",
       "      <td>goss</td>\n",
       "      <td>True</td>\n",
       "      <td>1000</td>\n",
       "      <td>ColumnTransformer(transformers=[('num',\\n     ...</td>\n",
       "      <td>SMOTE()</td>\n",
       "      <td>0.7</td>\n",
       "      <td>...</td>\n",
       "      <td>0.008172</td>\n",
       "      <td>224</td>\n",
       "      <td>0.705718</td>\n",
       "      <td>0.715481</td>\n",
       "      <td>0.757322</td>\n",
       "      <td>0.724860</td>\n",
       "      <td>0.719274</td>\n",
       "      <td>0.724531</td>\n",
       "      <td>0.017543</td>\n",
       "      <td>361</td>\n",
       "    </tr>\n",
       "    <tr>\n",
       "      <th>910</th>\n",
       "      <td>1.032659</td>\n",
       "      <td>0.073719</td>\n",
       "      <td>0.083805</td>\n",
       "      <td>0.001166</td>\n",
       "      <td>goss</td>\n",
       "      <td>True</td>\n",
       "      <td>1000</td>\n",
       "      <td>ColumnTransformer(transformers=[('num',\\n     ...</td>\n",
       "      <td>SMOTE()</td>\n",
       "      <td>0.6</td>\n",
       "      <td>...</td>\n",
       "      <td>0.008325</td>\n",
       "      <td>190</td>\n",
       "      <td>0.705718</td>\n",
       "      <td>0.709902</td>\n",
       "      <td>0.767085</td>\n",
       "      <td>0.734637</td>\n",
       "      <td>0.726257</td>\n",
       "      <td>0.728720</td>\n",
       "      <td>0.021891</td>\n",
       "      <td>306</td>\n",
       "    </tr>\n",
       "    <tr>\n",
       "      <th>911</th>\n",
       "      <td>0.967455</td>\n",
       "      <td>0.085906</td>\n",
       "      <td>0.081605</td>\n",
       "      <td>0.001020</td>\n",
       "      <td>goss</td>\n",
       "      <td>True</td>\n",
       "      <td>1000</td>\n",
       "      <td>ColumnTransformer(transformers=[('num',\\n     ...</td>\n",
       "      <td>SMOTE()</td>\n",
       "      <td>0.5</td>\n",
       "      <td>...</td>\n",
       "      <td>0.007715</td>\n",
       "      <td>289</td>\n",
       "      <td>0.712692</td>\n",
       "      <td>0.715481</td>\n",
       "      <td>0.771269</td>\n",
       "      <td>0.740223</td>\n",
       "      <td>0.729050</td>\n",
       "      <td>0.733743</td>\n",
       "      <td>0.021208</td>\n",
       "      <td>240</td>\n",
       "    </tr>\n",
       "  </tbody>\n",
       "</table>\n",
       "<p>912 rows × 27 columns</p>\n",
       "</div>"
      ],
      "text/plain": [
       "     mean_fit_time  std_fit_time  mean_score_time  std_score_time  \\\n",
       "0         1.846506      1.291467         0.093605        0.006917   \n",
       "1         0.675439      0.270934         0.090005        0.008787   \n",
       "2         1.767501      0.707897         0.161609        0.079547   \n",
       "3         0.772844      0.153521         0.165809        0.095455   \n",
       "4         1.710498      0.705955         0.155809        0.045255   \n",
       "..             ...           ...              ...             ...   \n",
       "907       1.643694      0.369775         0.118407        0.042191   \n",
       "908       1.218270      0.071420         0.108406        0.047338   \n",
       "909       1.086862      0.079212         0.083805        0.000748   \n",
       "910       1.032659      0.073719         0.083805        0.001166   \n",
       "911       0.967455      0.085906         0.081605        0.001020   \n",
       "\n",
       "    param_model__boosting_type param_model__is_unbalance  \\\n",
       "0                         gbdt                     False   \n",
       "1                         gbdt                     False   \n",
       "2                         gbdt                     False   \n",
       "3                         gbdt                     False   \n",
       "4                         gbdt                     False   \n",
       "..                         ...                       ...   \n",
       "907                       goss                      True   \n",
       "908                       goss                      True   \n",
       "909                       goss                      True   \n",
       "910                       goss                      True   \n",
       "911                       goss                      True   \n",
       "\n",
       "    param_model__reg_lambda  \\\n",
       "0                         0   \n",
       "1                         0   \n",
       "2                        10   \n",
       "3                        10   \n",
       "4                       100   \n",
       "..                      ...   \n",
       "907                    1000   \n",
       "908                    1000   \n",
       "909                    1000   \n",
       "910                    1000   \n",
       "911                    1000   \n",
       "\n",
       "                                    param_preprocessor param_sampler  \\\n",
       "0    ColumnTransformer(transformers=[('num',\\n     ...          None   \n",
       "1    ColumnTransformer(transformers=[('num',\\n     ...          None   \n",
       "2    ColumnTransformer(transformers=[('num',\\n     ...          None   \n",
       "3    ColumnTransformer(transformers=[('num',\\n     ...          None   \n",
       "4    ColumnTransformer(transformers=[('num',\\n     ...          None   \n",
       "..                                                 ...           ...   \n",
       "907  ColumnTransformer(transformers=[('num',\\n     ...       SMOTE()   \n",
       "908  ColumnTransformer(transformers=[('num',\\n     ...       SMOTE()   \n",
       "909  ColumnTransformer(transformers=[('num',\\n     ...       SMOTE()   \n",
       "910  ColumnTransformer(transformers=[('num',\\n     ...       SMOTE()   \n",
       "911  ColumnTransformer(transformers=[('num',\\n     ...       SMOTE()   \n",
       "\n",
       "    param_sampler__sampling_strategy  ... std_test_ROC  rank_test_ROC  \\\n",
       "0                                NaN  ...     0.005690            739   \n",
       "1                                NaN  ...     0.007038            135   \n",
       "2                                NaN  ...     0.007253            528   \n",
       "3                                NaN  ...     0.007546             22   \n",
       "4                                NaN  ...     0.007420            462   \n",
       "..                               ...  ...          ...            ...   \n",
       "907                              0.9  ...     0.008321            316   \n",
       "908                              0.8  ...     0.007866            342   \n",
       "909                              0.7  ...     0.008172            224   \n",
       "910                              0.6  ...     0.008325            190   \n",
       "911                              0.5  ...     0.007715            289   \n",
       "\n",
       "     split0_test_Recall  split1_test_Recall  split2_test_Recall  \\\n",
       "0              0.435146            0.447699            0.442120   \n",
       "1              0.560669            0.556485            0.581590   \n",
       "2              0.432357            0.456067            0.428173   \n",
       "3              0.566248            0.556485            0.566248   \n",
       "4              0.432357            0.453278            0.412831   \n",
       "..                  ...                 ...                 ...   \n",
       "907            0.700139            0.701534            0.751743   \n",
       "908            0.698745            0.705718            0.751743   \n",
       "909            0.705718            0.715481            0.757322   \n",
       "910            0.705718            0.709902            0.767085   \n",
       "911            0.712692            0.715481            0.771269   \n",
       "\n",
       "     split3_test_Recall  split4_test_Recall  mean_test_Recall  \\\n",
       "0              0.446927            0.439944          0.442367   \n",
       "1              0.568436            0.576816          0.568799   \n",
       "2              0.421788            0.449721          0.437621   \n",
       "3              0.560056            0.569832          0.563774   \n",
       "4              0.423184            0.439944          0.432319   \n",
       "..                  ...                 ...               ...   \n",
       "907            0.717877            0.708101          0.715879   \n",
       "908            0.726257            0.712291          0.718951   \n",
       "909            0.724860            0.719274          0.724531   \n",
       "910            0.734637            0.726257          0.728720   \n",
       "911            0.740223            0.729050          0.733743   \n",
       "\n",
       "     std_test_Recall  rank_test_Recall  \n",
       "0           0.004632               899  \n",
       "1           0.009442               824  \n",
       "2           0.013072               902  \n",
       "3           0.004814               836  \n",
       "4           0.013861               903  \n",
       "..               ...               ...  \n",
       "907         0.018996               420  \n",
       "908         0.018743               400  \n",
       "909         0.017543               361  \n",
       "910         0.021891               306  \n",
       "911         0.021208               240  \n",
       "\n",
       "[912 rows x 27 columns]"
      ]
     },
     "execution_count": 19,
     "metadata": {},
     "output_type": "execute_result"
    }
   ],
   "source": [
    "results = pd.DataFrame(grid_search.cv_results_)\n",
    "results\n",
    "#pd.set_option('display.max_columns', None)\n",
    "#pd.reset_option('display.max_columns', None)"
   ]
  },
  {
   "cell_type": "code",
   "execution_count": 21,
   "metadata": {},
   "outputs": [
    {
     "name": "stderr",
     "output_type": "stream",
     "text": [
      "C:\\Users\\juan.ron\\Anaconda3\\envs\\dhdsblend\\lib\\site-packages\\ipykernel_launcher.py:2: FutureWarning: Indexing with multiple keys (implicitly converted to a tuple of keys) will be deprecated, use a list instead.\n",
      "  \n"
     ]
    },
    {
     "data": {
      "text/html": [
       "<div>\n",
       "<style scoped>\n",
       "    .dataframe tbody tr th:only-of-type {\n",
       "        vertical-align: middle;\n",
       "    }\n",
       "\n",
       "    .dataframe tbody tr th {\n",
       "        vertical-align: top;\n",
       "    }\n",
       "\n",
       "    .dataframe thead th {\n",
       "        text-align: right;\n",
       "    }\n",
       "</style>\n",
       "<table border=\"1\" class=\"dataframe\">\n",
       "  <thead>\n",
       "    <tr style=\"text-align: right;\">\n",
       "      <th></th>\n",
       "      <th></th>\n",
       "      <th></th>\n",
       "      <th>mean_test_ROC</th>\n",
       "      <th>mean_test_Recall</th>\n",
       "    </tr>\n",
       "    <tr>\n",
       "      <th>param_model__boosting_type</th>\n",
       "      <th>param_model__is_unbalance</th>\n",
       "      <th>param_model__reg_lambda</th>\n",
       "      <th></th>\n",
       "      <th></th>\n",
       "    </tr>\n",
       "  </thead>\n",
       "  <tbody>\n",
       "    <tr>\n",
       "      <th rowspan=\"8\" valign=\"top\">dart</th>\n",
       "      <th rowspan=\"4\" valign=\"top\">False</th>\n",
       "      <th>0</th>\n",
       "      <td>0.803076</td>\n",
       "      <td>0.739888</td>\n",
       "    </tr>\n",
       "    <tr>\n",
       "      <th>10</th>\n",
       "      <td>0.803245</td>\n",
       "      <td>0.745187</td>\n",
       "    </tr>\n",
       "    <tr>\n",
       "      <th>100</th>\n",
       "      <td>0.804394</td>\n",
       "      <td>0.746025</td>\n",
       "    </tr>\n",
       "    <tr>\n",
       "      <th>1000</th>\n",
       "      <td>0.799344</td>\n",
       "      <td>0.769737</td>\n",
       "    </tr>\n",
       "    <tr>\n",
       "      <th rowspan=\"4\" valign=\"top\">True</th>\n",
       "      <th>0</th>\n",
       "      <td>0.801337</td>\n",
       "      <td>0.747422</td>\n",
       "    </tr>\n",
       "    <tr>\n",
       "      <th>10</th>\n",
       "      <td>0.802413</td>\n",
       "      <td>0.742676</td>\n",
       "    </tr>\n",
       "    <tr>\n",
       "      <th>100</th>\n",
       "      <td>0.803767</td>\n",
       "      <td>0.744350</td>\n",
       "    </tr>\n",
       "    <tr>\n",
       "      <th>1000</th>\n",
       "      <td>0.798278</td>\n",
       "      <td>0.766678</td>\n",
       "    </tr>\n",
       "    <tr>\n",
       "      <th rowspan=\"8\" valign=\"top\">gbdt</th>\n",
       "      <th rowspan=\"4\" valign=\"top\">False</th>\n",
       "      <th>0</th>\n",
       "      <td>0.800030</td>\n",
       "      <td>0.745189</td>\n",
       "    </tr>\n",
       "    <tr>\n",
       "      <th>10</th>\n",
       "      <td>0.802193</td>\n",
       "      <td>0.747137</td>\n",
       "    </tr>\n",
       "    <tr>\n",
       "      <th>100</th>\n",
       "      <td>0.802724</td>\n",
       "      <td>0.747978</td>\n",
       "    </tr>\n",
       "    <tr>\n",
       "      <th>1000</th>\n",
       "      <td>0.800498</td>\n",
       "      <td>0.754955</td>\n",
       "    </tr>\n",
       "    <tr>\n",
       "      <th rowspan=\"4\" valign=\"top\">True</th>\n",
       "      <th>0</th>\n",
       "      <td>0.798763</td>\n",
       "      <td>0.747419</td>\n",
       "    </tr>\n",
       "    <tr>\n",
       "      <th>10</th>\n",
       "      <td>0.799851</td>\n",
       "      <td>0.747418</td>\n",
       "    </tr>\n",
       "    <tr>\n",
       "      <th>100</th>\n",
       "      <td>0.801143</td>\n",
       "      <td>0.751053</td>\n",
       "    </tr>\n",
       "    <tr>\n",
       "      <th>1000</th>\n",
       "      <td>0.800050</td>\n",
       "      <td>0.756910</td>\n",
       "    </tr>\n",
       "    <tr>\n",
       "      <th rowspan=\"8\" valign=\"top\">goss</th>\n",
       "      <th rowspan=\"4\" valign=\"top\">False</th>\n",
       "      <th>0</th>\n",
       "      <td>0.796286</td>\n",
       "      <td>0.740444</td>\n",
       "    </tr>\n",
       "    <tr>\n",
       "      <th>10</th>\n",
       "      <td>0.797841</td>\n",
       "      <td>0.747975</td>\n",
       "    </tr>\n",
       "    <tr>\n",
       "      <th>100</th>\n",
       "      <td>0.801266</td>\n",
       "      <td>0.750489</td>\n",
       "    </tr>\n",
       "    <tr>\n",
       "      <th>1000</th>\n",
       "      <td>0.799839</td>\n",
       "      <td>0.774777</td>\n",
       "    </tr>\n",
       "    <tr>\n",
       "      <th rowspan=\"4\" valign=\"top\">True</th>\n",
       "      <th>0</th>\n",
       "      <td>0.796337</td>\n",
       "      <td>0.744912</td>\n",
       "    </tr>\n",
       "    <tr>\n",
       "      <th>10</th>\n",
       "      <td>0.798343</td>\n",
       "      <td>0.747696</td>\n",
       "    </tr>\n",
       "    <tr>\n",
       "      <th>100</th>\n",
       "      <td>0.800503</td>\n",
       "      <td>0.755792</td>\n",
       "    </tr>\n",
       "    <tr>\n",
       "      <th>1000</th>\n",
       "      <td>0.799637</td>\n",
       "      <td>0.771703</td>\n",
       "    </tr>\n",
       "  </tbody>\n",
       "</table>\n",
       "</div>"
      ],
      "text/plain": [
       "                                                                              mean_test_ROC  \\\n",
       "param_model__boosting_type param_model__is_unbalance param_model__reg_lambda                  \n",
       "dart                       False                     0                             0.803076   \n",
       "                                                     10                            0.803245   \n",
       "                                                     100                           0.804394   \n",
       "                                                     1000                          0.799344   \n",
       "                           True                      0                             0.801337   \n",
       "                                                     10                            0.802413   \n",
       "                                                     100                           0.803767   \n",
       "                                                     1000                          0.798278   \n",
       "gbdt                       False                     0                             0.800030   \n",
       "                                                     10                            0.802193   \n",
       "                                                     100                           0.802724   \n",
       "                                                     1000                          0.800498   \n",
       "                           True                      0                             0.798763   \n",
       "                                                     10                            0.799851   \n",
       "                                                     100                           0.801143   \n",
       "                                                     1000                          0.800050   \n",
       "goss                       False                     0                             0.796286   \n",
       "                                                     10                            0.797841   \n",
       "                                                     100                           0.801266   \n",
       "                                                     1000                          0.799839   \n",
       "                           True                      0                             0.796337   \n",
       "                                                     10                            0.798343   \n",
       "                                                     100                           0.800503   \n",
       "                                                     1000                          0.799637   \n",
       "\n",
       "                                                                              mean_test_Recall  \n",
       "param_model__boosting_type param_model__is_unbalance param_model__reg_lambda                    \n",
       "dart                       False                     0                                0.739888  \n",
       "                                                     10                               0.745187  \n",
       "                                                     100                              0.746025  \n",
       "                                                     1000                             0.769737  \n",
       "                           True                      0                                0.747422  \n",
       "                                                     10                               0.742676  \n",
       "                                                     100                              0.744350  \n",
       "                                                     1000                             0.766678  \n",
       "gbdt                       False                     0                                0.745189  \n",
       "                                                     10                               0.747137  \n",
       "                                                     100                              0.747978  \n",
       "                                                     1000                             0.754955  \n",
       "                           True                      0                                0.747419  \n",
       "                                                     10                               0.747418  \n",
       "                                                     100                              0.751053  \n",
       "                                                     1000                             0.756910  \n",
       "goss                       False                     0                                0.740444  \n",
       "                                                     10                               0.747975  \n",
       "                                                     100                              0.750489  \n",
       "                                                     1000                             0.774777  \n",
       "                           True                      0                                0.744912  \n",
       "                                                     10                               0.747696  \n",
       "                                                     100                              0.755792  \n",
       "                                                     1000                             0.771703  "
      ]
     },
     "execution_count": 21,
     "metadata": {},
     "output_type": "execute_result"
    }
   ],
   "source": [
    "results.groupby(['param_model__boosting_type', 'param_model__is_unbalance',\n",
    "       'param_model__reg_lambda'])['mean_test_ROC', 'mean_test_Recall'].max()"
   ]
  },
  {
   "cell_type": "code",
   "execution_count": 22,
   "metadata": {},
   "outputs": [
    {
     "data": {
      "text/plain": [
       "{'model__boosting_type': 'dart',\n",
       " 'model__is_unbalance': False,\n",
       " 'model__reg_lambda': 100,\n",
       " 'preprocessor': ColumnTransformer(transformers=[('num',\n",
       "                                  Pipeline(steps=[('imputer',\n",
       "                                                   SimpleImputer(fill_value=0,\n",
       "                                                                 strategy='constant')),\n",
       "                                                  ('scaler', StandardScaler())]),\n",
       "                                  ['city_development_index', 'training_hours']),\n",
       "                                 ('cat',\n",
       "                                  Pipeline(steps=[('imputer',\n",
       "                                                   SimpleImputer(fill_value='Empty',\n",
       "                                                                 strategy='constant')),\n",
       "                                                  ('encoder',\n",
       "                                                   OneHotEncoder(handle_unknown='ignore'))]),\n",
       "                                  ['city', 'gender', 'relevent_experience',\n",
       "                                   'enrolled_university', 'education_level',\n",
       "                                   'major_discipline', 'experience',\n",
       "                                   'company_size', 'company_type',\n",
       "                                   'last_new_job'])]),\n",
       " 'sampler': RandomOverSampler(sampling_strategy=0.9),\n",
       " 'sampler__sampling_strategy': 0.9}"
      ]
     },
     "execution_count": 22,
     "metadata": {},
     "output_type": "execute_result"
    }
   ],
   "source": [
    "grid_search.best_params_"
   ]
  },
  {
   "cell_type": "markdown",
   "metadata": {},
   "source": [
    "### 4.3 Best Model"
   ]
  },
  {
   "cell_type": "code",
   "execution_count": 23,
   "metadata": {},
   "outputs": [],
   "source": [
    "training_performance = grid_search.best_estimator_.predict(X_train)"
   ]
  },
  {
   "cell_type": "code",
   "execution_count": 24,
   "metadata": {},
   "outputs": [],
   "source": [
    "validation_performance = grid_search.best_estimator_.predict(X_test)"
   ]
  },
  {
   "cell_type": "code",
   "execution_count": 25,
   "metadata": {},
   "outputs": [
    {
     "data": {
      "text/plain": [
       "Pipeline(steps=[('preprocessor',\n",
       "                 ColumnTransformer(transformers=[('num',\n",
       "                                                  Pipeline(steps=[('imputer',\n",
       "                                                                   SimpleImputer(fill_value=0,\n",
       "                                                                                 strategy='constant')),\n",
       "                                                                  ('scaler',\n",
       "                                                                   StandardScaler())]),\n",
       "                                                  ['city_development_index',\n",
       "                                                   'training_hours']),\n",
       "                                                 ('cat',\n",
       "                                                  Pipeline(steps=[('imputer',\n",
       "                                                                   SimpleImputer(fill_value='Empty',\n",
       "                                                                                 strategy='constant')),\n",
       "                                                                  ('encoder',\n",
       "                                                                   OneHotEncoder(handle_unknown='ignore'))]),\n",
       "                                                  ['city', 'gender',\n",
       "                                                   'relevent_experience',\n",
       "                                                   'enrolled_university',\n",
       "                                                   'education_level',\n",
       "                                                   'major_discipline',\n",
       "                                                   'experience', 'company_size',\n",
       "                                                   'company_type',\n",
       "                                                   'last_new_job'])])),\n",
       "                ('sampler', RandomOverSampler(sampling_strategy=0.9)),\n",
       "                ('model',\n",
       "                 LGBMClassifier(boosting_type='dart', is_unbalance=False,\n",
       "                                reg_lambda=100, verbose=1))])"
      ]
     },
     "execution_count": 25,
     "metadata": {},
     "output_type": "execute_result"
    }
   ],
   "source": [
    "best_estimator = grid_search.best_estimator_\n",
    "best_estimator"
   ]
  },
  {
   "cell_type": "markdown",
   "metadata": {},
   "source": [
    "_____"
   ]
  },
  {
   "cell_type": "markdown",
   "metadata": {},
   "source": [
    "## 5. Model Evaluation - Training and Validation Sets"
   ]
  },
  {
   "cell_type": "code",
   "execution_count": 26,
   "metadata": {},
   "outputs": [
    {
     "name": "stdout",
     "output_type": "stream",
     "text": [
      "              precision    recall  f1-score   support\n",
      "\n",
      "         0.0       0.90      0.81      0.85     10785\n",
      "         1.0       0.56      0.74      0.64      3583\n",
      "\n",
      "    accuracy                           0.79     14368\n",
      "   macro avg       0.73      0.77      0.75     14368\n",
      "weighted avg       0.82      0.79      0.80     14368\n",
      "\n"
     ]
    },
    {
     "data": {
      "image/png": "[encoded data removed]",
      "text/plain": [
       "<Figure size 432x288 with 2 Axes>"
      ]
     },
     "metadata": {
      "needs_background": "light"
     },
     "output_type": "display_data"
    }
   ],
   "source": [
    "print(classification_report(y_train, training_performance))\n",
    "cm = confusion_matrix(y_train, training_performance, normalize = 'true')\n",
    "ax = sns.heatmap(cm, annot = True, cmap = 'Reds')\n",
    "ax.set_xlabel('Prediction', fontsize = 15)\n",
    "ax.set_ylabel('Real', fontsize = 15)\n",
    "ax.set_title('Confusion Matrix - Training', fontsize = 20)\n",
    "plt.show()"
   ]
  },
  {
   "cell_type": "code",
   "execution_count": 27,
   "metadata": {},
   "outputs": [
    {
     "name": "stdout",
     "output_type": "stream",
     "text": [
      "              precision    recall  f1-score   support\n",
      "\n",
      "         0.0       0.91      0.81      0.85      3596\n",
      "         1.0       0.56      0.75      0.64      1194\n",
      "\n",
      "    accuracy                           0.79      4790\n",
      "   macro avg       0.73      0.78      0.75      4790\n",
      "weighted avg       0.82      0.79      0.80      4790\n",
      "\n"
     ]
    },
    {
     "data": {
      "image/png": "[encoded data removed]",
      "text/plain": [
       "<Figure size 432x288 with 2 Axes>"
      ]
     },
     "metadata": {
      "needs_background": "light"
     },
     "output_type": "display_data"
    }
   ],
   "source": [
    "print(classification_report(y_test, validation_performance))\n",
    "cm = confusion_matrix(y_test, validation_performance, normalize = 'true')\n",
    "ax = sns.heatmap(cm, annot = True, cmap = 'Reds')\n",
    "ax.set_xlabel('Prediction', fontsize = 15)\n",
    "ax.set_ylabel('Real', fontsize = 15)\n",
    "ax.set_title('Confusion Matrix - Validation', fontsize = 20)\n",
    "plt.show()"
   ]
  },
  {
   "cell_type": "code",
   "execution_count": 28,
   "metadata": {},
   "outputs": [
    {
     "data": {
      "image/png": "[encoded data removed]",
      "text/plain": [
       "<Figure size 432x288 with 1 Axes>"
      ]
     },
     "metadata": {
      "needs_background": "light"
     },
     "output_type": "display_data"
    }
   ],
   "source": [
    "plot_roc_curve(grid_search.best_estimator_, X_train, y_train)\n",
    "plt.plot(np.arange(0,1, step =0.01), np.arange(0,1, step =0.01), linestyle = '--', color = 'red')\n",
    "plt.axis([0, 1.01, 0, 1.01])\n",
    "plt.show()"
   ]
  },
  {
   "cell_type": "code",
   "execution_count": 29,
   "metadata": {},
   "outputs": [
    {
     "data": {
      "image/png": "[encoded data removed]",
      "text/plain": [
       "<Figure size 432x288 with 1 Axes>"
      ]
     },
     "metadata": {
      "needs_background": "light"
     },
     "output_type": "display_data"
    }
   ],
   "source": [
    "plot_roc_curve(grid_search.best_estimator_, X_test, y_test)\n",
    "plt.plot(np.arange(0,1, step =0.01), np.arange(0,1, step =0.01), linestyle = '--', color = 'red')\n",
    "plt.axis([0, 1.01, 0, 1.01])\n",
    "plt.show()"
   ]
  },
  {
   "cell_type": "code",
   "execution_count": 30,
   "metadata": {},
   "outputs": [
    {
     "data": {
      "text/plain": [
       "<sklearn.metrics._plot.precision_recall_curve.PrecisionRecallDisplay at 0xdab9e48>"
      ]
     },
     "execution_count": 30,
     "metadata": {},
     "output_type": "execute_result"
    },
    {
     "data": {
      "image/png": "[encoded data removed]",
      "text/plain": [
       "<Figure size 432x288 with 1 Axes>"
      ]
     },
     "metadata": {
      "needs_background": "light"
     },
     "output_type": "display_data"
    }
   ],
   "source": [
    "plot_precision_recall_curve(grid_search.best_estimator_, X_train, y_train)"
   ]
  },
  {
   "cell_type": "code",
   "execution_count": 31,
   "metadata": {},
   "outputs": [
    {
     "data": {
      "text/plain": [
       "<sklearn.metrics._plot.precision_recall_curve.PrecisionRecallDisplay at 0xf4ccf08>"
      ]
     },
     "execution_count": 31,
     "metadata": {},
     "output_type": "execute_result"
    },
    {
     "data": {
      "image/png": "[encoded data removed]",
      "text/plain": [
       "<Figure size 432x288 with 1 Axes>"
      ]
     },
     "metadata": {
      "needs_background": "light"
     },
     "output_type": "display_data"
    }
   ],
   "source": [
    "plot_precision_recall_curve(grid_search.best_estimator_, X_test, y_test)"
   ]
  },
  {
   "cell_type": "code",
   "execution_count": 32,
   "metadata": {},
   "outputs": [],
   "source": [
    "feature_importance = grid_search.best_estimator_.named_steps['model'].feature_importances_"
   ]
  },
  {
   "cell_type": "code",
   "execution_count": 33,
   "metadata": {},
   "outputs": [],
   "source": [
    "cat_features_list = grid_search.best_estimator_.named_steps['preprocessor'].transformers_[1][1]\\\n",
    "   .named_steps['encoder'].get_feature_names(categorical_cols)\n",
    "\n",
    "num_features_list = ['city_development_index', 'training_hours']\n",
    "\n",
    "for i in cat_features_list:\n",
    "    num_features_list.append(i)"
   ]
  },
  {
   "cell_type": "code",
   "execution_count": 34,
   "metadata": {},
   "outputs": [],
   "source": [
    "feature_importance = pd.DataFrame(feature_importance, index = num_features_list, columns = ['feature_importance'])\n",
    "feature_importance = feature_importance.sort_values(by = 'feature_importance', ascending = False)"
   ]
  },
  {
   "cell_type": "code",
   "execution_count": 35,
   "metadata": {},
   "outputs": [
    {
     "data": {
      "text/html": [
       "<div>\n",
       "<style scoped>\n",
       "    .dataframe tbody tr th:only-of-type {\n",
       "        vertical-align: middle;\n",
       "    }\n",
       "\n",
       "    .dataframe tbody tr th {\n",
       "        vertical-align: top;\n",
       "    }\n",
       "\n",
       "    .dataframe thead th {\n",
       "        text-align: right;\n",
       "    }\n",
       "</style>\n",
       "<table border=\"1\" class=\"dataframe\">\n",
       "  <thead>\n",
       "    <tr style=\"text-align: right;\">\n",
       "      <th></th>\n",
       "      <th>feature_importance</th>\n",
       "    </tr>\n",
       "  </thead>\n",
       "  <tbody>\n",
       "    <tr>\n",
       "      <th>training_hours</th>\n",
       "      <td>486</td>\n",
       "    </tr>\n",
       "    <tr>\n",
       "      <th>city_development_index</th>\n",
       "      <td>484</td>\n",
       "    </tr>\n",
       "    <tr>\n",
       "      <th>company_size_Empty</th>\n",
       "      <td>124</td>\n",
       "    </tr>\n",
       "    <tr>\n",
       "      <th>major_discipline_Empty</th>\n",
       "      <td>95</td>\n",
       "    </tr>\n",
       "    <tr>\n",
       "      <th>relevent_experience_Has relevent experience</th>\n",
       "      <td>88</td>\n",
       "    </tr>\n",
       "    <tr>\n",
       "      <th>city_city_144</th>\n",
       "      <td>84</td>\n",
       "    </tr>\n",
       "    <tr>\n",
       "      <th>experience_&gt;20</th>\n",
       "      <td>78</td>\n",
       "    </tr>\n",
       "    <tr>\n",
       "      <th>city_city_103</th>\n",
       "      <td>77</td>\n",
       "    </tr>\n",
       "    <tr>\n",
       "      <th>experience_1</th>\n",
       "      <td>73</td>\n",
       "    </tr>\n",
       "    <tr>\n",
       "      <th>enrolled_university_no_enrollment</th>\n",
       "      <td>64</td>\n",
       "    </tr>\n",
       "  </tbody>\n",
       "</table>\n",
       "</div>"
      ],
      "text/plain": [
       "                                             feature_importance\n",
       "training_hours                                              486\n",
       "city_development_index                                      484\n",
       "company_size_Empty                                          124\n",
       "major_discipline_Empty                                       95\n",
       "relevent_experience_Has relevent experience                  88\n",
       "city_city_144                                                84\n",
       "experience_>20                                               78\n",
       "city_city_103                                                77\n",
       "experience_1                                                 73\n",
       "enrolled_university_no_enrollment                            64"
      ]
     },
     "execution_count": 35,
     "metadata": {},
     "output_type": "execute_result"
    }
   ],
   "source": [
    "feature_importance.head(10)"
   ]
  },
  {
   "cell_type": "code",
   "execution_count": 36,
   "metadata": {},
   "outputs": [
    {
     "data": {
      "image/png": "[encoded data removed]",
      "text/plain": [
       "<Figure size 432x288 with 1 Axes>"
      ]
     },
     "metadata": {
      "needs_background": "light"
     },
     "output_type": "display_data"
    }
   ],
   "source": [
    "ax = feature_importance[0:10].plot.barh()\n",
    "ax.invert_yaxis()"
   ]
  },
  {
   "cell_type": "code",
   "execution_count": 37,
   "metadata": {},
   "outputs": [],
   "source": [
    "proba_list = grid_search.best_estimator_.predict_proba(X_test)"
   ]
  },
  {
   "cell_type": "code",
   "execution_count": 38,
   "metadata": {},
   "outputs": [
    {
     "data": {
      "text/plain": [
       "0       0\n",
       "1       0\n",
       "2       1\n",
       "3       0\n",
       "4       0\n",
       "       ..\n",
       "4785    1\n",
       "4786    0\n",
       "4787    0\n",
       "4788    0\n",
       "4789    1\n",
       "Length: 4790, dtype: int64"
      ]
     },
     "execution_count": 38,
     "metadata": {},
     "output_type": "execute_result"
    }
   ],
   "source": [
    "new_proba = .4\n",
    "\n",
    "modified_results = pd.Series(proba_list[:,1] >= new_proba).astype('int64')\n",
    "modified_results"
   ]
  },
  {
   "cell_type": "code",
   "execution_count": 39,
   "metadata": {},
   "outputs": [
    {
     "name": "stdout",
     "output_type": "stream",
     "text": [
      "              precision    recall  f1-score   support\n",
      "\n",
      "         0.0       0.91      0.76      0.83      3596\n",
      "         1.0       0.52      0.78      0.62      1194\n",
      "\n",
      "    accuracy                           0.77      4790\n",
      "   macro avg       0.72      0.77      0.73      4790\n",
      "weighted avg       0.82      0.77      0.78      4790\n",
      "\n"
     ]
    },
    {
     "data": {
      "image/png": "[encoded data removed]",
      "text/plain": [
       "<Figure size 432x288 with 2 Axes>"
      ]
     },
     "metadata": {
      "needs_background": "light"
     },
     "output_type": "display_data"
    }
   ],
   "source": [
    "print(classification_report(y_test, modified_results))\n",
    "cm = confusion_matrix(y_test, modified_results, normalize = 'true')\n",
    "ax = sns.heatmap(cm, annot = True, cmap = 'Reds')\n",
    "ax.set_xlabel('Prediction', fontsize = 15)\n",
    "ax.set_ylabel('Real', fontsize = 15)\n",
    "ax.set_title(f'Confusion Matrix - Validation (threshold = {new_proba})', fontsize = 20)\n",
    "plt.show()"
   ]
  },
  {
   "cell_type": "markdown",
   "metadata": {},
   "source": [
    "_____"
   ]
  },
  {
   "cell_type": "markdown",
   "metadata": {},
   "source": [
    "## 6. Model Evaluation - Testing Set"
   ]
  },
  {
   "cell_type": "code",
   "execution_count": 40,
   "metadata": {},
   "outputs": [
    {
     "data": {
      "text/html": [
       "<div>\n",
       "<style scoped>\n",
       "    .dataframe tbody tr th:only-of-type {\n",
       "        vertical-align: middle;\n",
       "    }\n",
       "\n",
       "    .dataframe tbody tr th {\n",
       "        vertical-align: top;\n",
       "    }\n",
       "\n",
       "    .dataframe thead th {\n",
       "        text-align: right;\n",
       "    }\n",
       "</style>\n",
       "<table border=\"1\" class=\"dataframe\">\n",
       "  <thead>\n",
       "    <tr style=\"text-align: right;\">\n",
       "      <th></th>\n",
       "      <th>enrollee_id</th>\n",
       "      <th>city</th>\n",
       "      <th>city_development_index</th>\n",
       "      <th>gender</th>\n",
       "      <th>relevent_experience</th>\n",
       "      <th>enrolled_university</th>\n",
       "      <th>education_level</th>\n",
       "      <th>major_discipline</th>\n",
       "      <th>experience</th>\n",
       "      <th>company_size</th>\n",
       "      <th>company_type</th>\n",
       "      <th>last_new_job</th>\n",
       "      <th>training_hours</th>\n",
       "    </tr>\n",
       "  </thead>\n",
       "  <tbody>\n",
       "    <tr>\n",
       "      <th>0</th>\n",
       "      <td>32403</td>\n",
       "      <td>city_41</td>\n",
       "      <td>0.827</td>\n",
       "      <td>Male</td>\n",
       "      <td>Has relevent experience</td>\n",
       "      <td>Full time course</td>\n",
       "      <td>Graduate</td>\n",
       "      <td>STEM</td>\n",
       "      <td>9</td>\n",
       "      <td>&lt;10</td>\n",
       "      <td>NaN</td>\n",
       "      <td>1</td>\n",
       "      <td>21</td>\n",
       "    </tr>\n",
       "    <tr>\n",
       "      <th>1</th>\n",
       "      <td>9858</td>\n",
       "      <td>city_103</td>\n",
       "      <td>0.920</td>\n",
       "      <td>Female</td>\n",
       "      <td>Has relevent experience</td>\n",
       "      <td>no_enrollment</td>\n",
       "      <td>Graduate</td>\n",
       "      <td>STEM</td>\n",
       "      <td>5</td>\n",
       "      <td>NaN</td>\n",
       "      <td>Pvt Ltd</td>\n",
       "      <td>1</td>\n",
       "      <td>98</td>\n",
       "    </tr>\n",
       "    <tr>\n",
       "      <th>2</th>\n",
       "      <td>31806</td>\n",
       "      <td>city_21</td>\n",
       "      <td>0.624</td>\n",
       "      <td>Male</td>\n",
       "      <td>No relevent experience</td>\n",
       "      <td>no_enrollment</td>\n",
       "      <td>High School</td>\n",
       "      <td>NaN</td>\n",
       "      <td>&lt;1</td>\n",
       "      <td>NaN</td>\n",
       "      <td>Pvt Ltd</td>\n",
       "      <td>never</td>\n",
       "      <td>15</td>\n",
       "    </tr>\n",
       "    <tr>\n",
       "      <th>3</th>\n",
       "      <td>27385</td>\n",
       "      <td>city_13</td>\n",
       "      <td>0.827</td>\n",
       "      <td>Male</td>\n",
       "      <td>Has relevent experience</td>\n",
       "      <td>no_enrollment</td>\n",
       "      <td>Masters</td>\n",
       "      <td>STEM</td>\n",
       "      <td>11</td>\n",
       "      <td>10/49</td>\n",
       "      <td>Pvt Ltd</td>\n",
       "      <td>1</td>\n",
       "      <td>39</td>\n",
       "    </tr>\n",
       "    <tr>\n",
       "      <th>4</th>\n",
       "      <td>27724</td>\n",
       "      <td>city_103</td>\n",
       "      <td>0.920</td>\n",
       "      <td>Male</td>\n",
       "      <td>Has relevent experience</td>\n",
       "      <td>no_enrollment</td>\n",
       "      <td>Graduate</td>\n",
       "      <td>STEM</td>\n",
       "      <td>&gt;20</td>\n",
       "      <td>10000+</td>\n",
       "      <td>Pvt Ltd</td>\n",
       "      <td>&gt;4</td>\n",
       "      <td>72</td>\n",
       "    </tr>\n",
       "  </tbody>\n",
       "</table>\n",
       "</div>"
      ],
      "text/plain": [
       "   enrollee_id      city  city_development_index  gender  \\\n",
       "0        32403   city_41                   0.827    Male   \n",
       "1         9858  city_103                   0.920  Female   \n",
       "2        31806   city_21                   0.624    Male   \n",
       "3        27385   city_13                   0.827    Male   \n",
       "4        27724  city_103                   0.920    Male   \n",
       "\n",
       "       relevent_experience enrolled_university education_level  \\\n",
       "0  Has relevent experience    Full time course        Graduate   \n",
       "1  Has relevent experience       no_enrollment        Graduate   \n",
       "2   No relevent experience       no_enrollment     High School   \n",
       "3  Has relevent experience       no_enrollment         Masters   \n",
       "4  Has relevent experience       no_enrollment        Graduate   \n",
       "\n",
       "  major_discipline experience company_size company_type last_new_job  \\\n",
       "0             STEM          9          <10          NaN            1   \n",
       "1             STEM          5          NaN      Pvt Ltd            1   \n",
       "2              NaN         <1          NaN      Pvt Ltd        never   \n",
       "3             STEM         11        10/49      Pvt Ltd            1   \n",
       "4             STEM        >20       10000+      Pvt Ltd           >4   \n",
       "\n",
       "   training_hours  \n",
       "0              21  \n",
       "1              98  \n",
       "2              15  \n",
       "3              39  \n",
       "4              72  "
      ]
     },
     "execution_count": 40,
     "metadata": {},
     "output_type": "execute_result"
    }
   ],
   "source": [
    "test_data_raw = pd.read_csv('aug_test.csv')\n",
    "test_data_raw.head()"
   ]
  },
  {
   "cell_type": "code",
   "execution_count": 41,
   "metadata": {},
   "outputs": [
    {
     "name": "stdout",
     "output_type": "stream",
     "text": [
      "<class 'pandas.core.frame.DataFrame'>\n",
      "RangeIndex: 2129 entries, 0 to 2128\n",
      "Data columns (total 13 columns):\n",
      " #   Column                  Non-Null Count  Dtype  \n",
      "---  ------                  --------------  -----  \n",
      " 0   enrollee_id             2129 non-null   int64  \n",
      " 1   city                    2129 non-null   object \n",
      " 2   city_development_index  2129 non-null   float64\n",
      " 3   gender                  1621 non-null   object \n",
      " 4   relevent_experience     2129 non-null   object \n",
      " 5   enrolled_university     2098 non-null   object \n",
      " 6   education_level         2077 non-null   object \n",
      " 7   major_discipline        1817 non-null   object \n",
      " 8   experience              2124 non-null   object \n",
      " 9   company_size            1507 non-null   object \n",
      " 10  company_type            1495 non-null   object \n",
      " 11  last_new_job            2089 non-null   object \n",
      " 12  training_hours          2129 non-null   int64  \n",
      "dtypes: float64(1), int64(2), object(10)\n",
      "memory usage: 216.4+ KB\n"
     ]
    }
   ],
   "source": [
    "test_data_raw.info()"
   ]
  },
  {
   "cell_type": "code",
   "execution_count": 42,
   "metadata": {},
   "outputs": [
    {
     "name": "stdout",
     "output_type": "stream",
     "text": [
      "Porcentaje de nulos\n",
      "enrollee_id                0.00\n",
      "city                       0.00\n",
      "city_development_index     0.00\n",
      "gender                    23.86\n",
      "relevent_experience        0.00\n",
      "enrolled_university        1.46\n",
      "education_level            2.44\n",
      "major_discipline          14.65\n",
      "experience                 0.23\n",
      "company_size              29.22\n",
      "company_type              29.78\n",
      "last_new_job               1.88\n",
      "training_hours             0.00\n",
      "dtype: float64\n"
     ]
    }
   ],
   "source": [
    "print('Porcentaje de nulos')\n",
    "print((test_data_raw.isnull().sum()/test_data_raw.shape[0]*100).round(2))"
   ]
  },
  {
   "cell_type": "code",
   "execution_count": 43,
   "metadata": {},
   "outputs": [],
   "source": [
    "X_test_final = test_data_raw.drop('enrollee_id', axis = 1)\n",
    "y_test_final = np.load('jobchange_test_target_values.npy')"
   ]
  },
  {
   "cell_type": "code",
   "execution_count": 44,
   "metadata": {},
   "outputs": [],
   "source": [
    "testing_performance = grid_search.best_estimator_.predict(X_test_final)"
   ]
  },
  {
   "cell_type": "code",
   "execution_count": 57,
   "metadata": {},
   "outputs": [
    {
     "name": "stdout",
     "output_type": "stream",
     "text": [
      "              precision    recall  f1-score   support\n",
      "\n",
      "         0.0       0.89      0.82      0.85      1553\n",
      "         1.0       0.59      0.73      0.65       576\n",
      "\n",
      "    accuracy                           0.79      2129\n",
      "   macro avg       0.74      0.77      0.75      2129\n",
      "weighted avg       0.81      0.79      0.80      2129\n",
      "\n"
     ]
    },
    {
     "data": {
      "image/png": "[encoded data removed]",
      "text/plain": [
       "<Figure size 432x288 with 2 Axes>"
      ]
     },
     "metadata": {
      "needs_background": "light"
     },
     "output_type": "display_data"
    }
   ],
   "source": [
    "print(classification_report(y_test_final, testing_performance))\n",
    "cm = confusion_matrix(y_test_final, testing_performance, normalize = 'true')\n",
    "ax = sns.heatmap(cm, annot = True, cmap = 'Reds')\n",
    "ax.set_xlabel('Prediction', fontsize = 15)\n",
    "ax.set_ylabel('Real', fontsize = 15)\n",
    "ax.set_title('Confusion Matrix - Test', fontsize = 20)\n",
    "plt.show()"
   ]
  },
  {
   "cell_type": "code",
   "execution_count": 46,
   "metadata": {},
   "outputs": [
    {
     "data": {
      "image/png": "[encoded data removed]",
      "text/plain": [
       "<Figure size 432x288 with 1 Axes>"
      ]
     },
     "metadata": {
      "needs_background": "light"
     },
     "output_type": "display_data"
    }
   ],
   "source": [
    "plot_roc_curve(grid_search.best_estimator_, X_test_final, y_test_final)\n",
    "plt.plot(np.arange(0,1, step =0.01), np.arange(0,1, step =0.01), linestyle = '--', color = 'red')\n",
    "plt.axis([0, 1.01, 0, 1.01])\n",
    "plt.show()"
   ]
  },
  {
   "cell_type": "code",
   "execution_count": 85,
   "metadata": {},
   "outputs": [
    {
     "data": {
      "text/plain": [
       "<sklearn.metrics._plot.precision_recall_curve.PrecisionRecallDisplay at 0x11ef22c8>"
      ]
     },
     "execution_count": 85,
     "metadata": {},
     "output_type": "execute_result"
    },
    {
     "data": {
      "image/png": "[encoded data removed]",
      "text/plain": [
       "<Figure size 432x288 with 1 Axes>"
      ]
     },
     "metadata": {
      "needs_background": "light"
     },
     "output_type": "display_data"
    }
   ],
   "source": [
    "plot_precision_recall_curve(grid_search.best_estimator_, X_test_final, y_test_final)"
   ]
  },
  {
   "cell_type": "code",
   "execution_count": 48,
   "metadata": {},
   "outputs": [],
   "source": [
    "proba_list_testing = grid_search.best_estimator_.predict_proba(X_test_final)"
   ]
  },
  {
   "cell_type": "code",
   "execution_count": 54,
   "metadata": {},
   "outputs": [
    {
     "data": {
      "text/plain": [
       "0       0\n",
       "1       0\n",
       "2       1\n",
       "3       0\n",
       "4       0\n",
       "       ..\n",
       "2124    1\n",
       "2125    0\n",
       "2126    0\n",
       "2127    0\n",
       "2128    0\n",
       "Length: 2129, dtype: int64"
      ]
     },
     "execution_count": 54,
     "metadata": {},
     "output_type": "execute_result"
    }
   ],
   "source": [
    "modified_testing_results = pd.Series(proba_list_testing[:,1] >=.4).astype('int64')\n",
    "modified_testing_results"
   ]
  },
  {
   "cell_type": "code",
   "execution_count": 59,
   "metadata": {},
   "outputs": [
    {
     "name": "stdout",
     "output_type": "stream",
     "text": [
      "              precision    recall  f1-score   support\n",
      "\n",
      "         0.0       0.89      0.77      0.83      1553\n",
      "         1.0       0.55      0.75      0.63       576\n",
      "\n",
      "    accuracy                           0.76      2129\n",
      "   macro avg       0.72      0.76      0.73      2129\n",
      "weighted avg       0.80      0.76      0.77      2129\n",
      "\n"
     ]
    },
    {
     "data": {
      "image/png": "[encoded data removed]",
      "text/plain": [
       "<Figure size 432x288 with 2 Axes>"
      ]
     },
     "metadata": {
      "needs_background": "light"
     },
     "output_type": "display_data"
    }
   ],
   "source": [
    "print(classification_report(y_test_final, modified_testing_results))\n",
    "cm = confusion_matrix(y_test_final, modified_testing_results, normalize = 'true')\n",
    "ax = sns.heatmap(cm, annot = True, cmap = 'Reds')\n",
    "ax.set_xlabel('Prediction', fontsize = 15)\n",
    "ax.set_ylabel('Real', fontsize = 15)\n",
    "ax.set_title(f'Confusion Matrix - Test (threshold = {new_proba})', fontsize = 20)\n",
    "plt.show()"
   ]
  },
  {
   "cell_type": "code",
   "execution_count": null,
   "metadata": {},
   "outputs": [],
   "source": []
  }
 ],
 "metadata": {
  "kernelspec": {
   "display_name": "Python 3",
   "language": "python",
   "name": "python3"
  },
  "language_info": {
   "codemirror_mode": {
    "name": "ipython",
    "version": 3
   },
   "file_extension": ".py",
   "mimetype": "text/x-python",
   "name": "python",
   "nbconvert_exporter": "python",
   "pygments_lexer": "ipython3",
   "version": "3.7.7"
  }
 },
 "nbformat": 4,
 "nbformat_minor": 4
}
